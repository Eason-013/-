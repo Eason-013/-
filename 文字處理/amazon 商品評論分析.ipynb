{
 "cells": [
  {
   "cell_type": "code",
   "execution_count": 16,
   "id": "8a6d9e4b",
   "metadata": {},
   "outputs": [],
   "source": [
    "#基本套件和模組\n",
    "import pandas as pd\n",
    "import numpy as np\n",
    "import matplotlib.pyplot as plt\n",
    "import seaborn as sns\n",
    "%matplotlib inline\n",
    "%config InlineBackend.figure_format = 'retina'\n",
    "plt.rcParams['font.sans-serif'] = ['DFKai-sb']\n",
    "plt.rcParams['axes.unicode_minus'] = False\n",
    "import warnings\n",
    "warnings.filterwarnings('ignore')"
   ]
  },
  {
   "cell_type": "code",
   "execution_count": 17,
   "id": "159e67a7",
   "metadata": {},
   "outputs": [
    {
     "data": {
      "text/html": [
       "<div>\n",
       "<style scoped>\n",
       "    .dataframe tbody tr th:only-of-type {\n",
       "        vertical-align: middle;\n",
       "    }\n",
       "\n",
       "    .dataframe tbody tr th {\n",
       "        vertical-align: top;\n",
       "    }\n",
       "\n",
       "    .dataframe thead th {\n",
       "        text-align: right;\n",
       "    }\n",
       "</style>\n",
       "<table border=\"1\" class=\"dataframe\">\n",
       "  <thead>\n",
       "    <tr style=\"text-align: right;\">\n",
       "      <th></th>\n",
       "      <th>id</th>\n",
       "      <th>rating</th>\n",
       "      <th>title</th>\n",
       "      <th>date</th>\n",
       "      <th>content</th>\n",
       "    </tr>\n",
       "  </thead>\n",
       "  <tbody>\n",
       "    <tr>\n",
       "      <th>0</th>\n",
       "      <td>Professor Nishanth</td>\n",
       "      <td>5</td>\n",
       "      <td>An outstanding refresh of the base Kindle at a...</td>\n",
       "      <td>2019-04-15</td>\n",
       "      <td>Original review: April 15, 2019, and two updat...</td>\n",
       "    </tr>\n",
       "    <tr>\n",
       "      <th>1</th>\n",
       "      <td>Beverly K</td>\n",
       "      <td>3</td>\n",
       "      <td>Base Kindle gets an upgrade\\n</td>\n",
       "      <td>2019-04-15</td>\n",
       "      <td>The pros: I like that you have a choice of col...</td>\n",
       "    </tr>\n",
       "    <tr>\n",
       "      <th>2</th>\n",
       "      <td>Gwaredd Thomas</td>\n",
       "      <td>1</td>\n",
       "      <td>Lower ppi - Not good.\\n</td>\n",
       "      <td>2019-04-15</td>\n",
       "      <td>I wouldn't purchase this product for the follo...</td>\n",
       "    </tr>\n",
       "    <tr>\n",
       "      <th>3</th>\n",
       "      <td>Lynn</td>\n",
       "      <td>5</td>\n",
       "      <td>Greatly Improved Basic Kindle\\n</td>\n",
       "      <td>2019-04-15</td>\n",
       "      <td>Don't buy into the petty negative reviews. The...</td>\n",
       "    </tr>\n",
       "    <tr>\n",
       "      <th>4</th>\n",
       "      <td>A.B.</td>\n",
       "      <td>4</td>\n",
       "      <td>Pleasant updates to the \"base\" Kindle\\n</td>\n",
       "      <td>2019-04-15</td>\n",
       "      <td>I had a Kindle touch years ago and had stopped...</td>\n",
       "    </tr>\n",
       "  </tbody>\n",
       "</table>\n",
       "</div>"
      ],
      "text/plain": [
       "                   id  rating  \\\n",
       "0  Professor Nishanth       5   \n",
       "1           Beverly K       3   \n",
       "2      Gwaredd Thomas       1   \n",
       "3                Lynn       5   \n",
       "4                A.B.       4   \n",
       "\n",
       "                                               title       date  \\\n",
       "0  An outstanding refresh of the base Kindle at a... 2019-04-15   \n",
       "1                      Base Kindle gets an upgrade\\n 2019-04-15   \n",
       "2                            Lower ppi - Not good.\\n 2019-04-15   \n",
       "3                    Greatly Improved Basic Kindle\\n 2019-04-15   \n",
       "4            Pleasant updates to the \"base\" Kindle\\n 2019-04-15   \n",
       "\n",
       "                                             content  \n",
       "0  Original review: April 15, 2019, and two updat...  \n",
       "1  The pros: I like that you have a choice of col...  \n",
       "2  I wouldn't purchase this product for the follo...  \n",
       "3  Don't buy into the petty negative reviews. The...  \n",
       "4  I had a Kindle touch years ago and had stopped...  "
      ]
     },
     "execution_count": 17,
     "metadata": {},
     "output_type": "execute_result"
    }
   ],
   "source": [
    "#載入資料並將日期格式轉換為日期\n",
    "df = pd.read_csv('kindle_rating.csv',parse_dates=['date'])\n",
    "df.head()"
   ]
  },
  {
   "cell_type": "code",
   "execution_count": 18,
   "id": "5e24b019",
   "metadata": {},
   "outputs": [
    {
     "name": "stdout",
     "output_type": "stream",
     "text": [
      "<class 'pandas.core.frame.DataFrame'>\n",
      "RangeIndex: 2780 entries, 0 to 2779\n",
      "Data columns (total 5 columns):\n",
      " #   Column   Non-Null Count  Dtype         \n",
      "---  ------   --------------  -----         \n",
      " 0   id       2780 non-null   object        \n",
      " 1   rating   2780 non-null   int64         \n",
      " 2   title    2780 non-null   object        \n",
      " 3   date     2780 non-null   datetime64[ns]\n",
      " 4   content  2780 non-null   object        \n",
      "dtypes: datetime64[ns](1), int64(1), object(3)\n",
      "memory usage: 108.7+ KB\n"
     ]
    }
   ],
   "source": [
    "df.info()"
   ]
  },
  {
   "cell_type": "markdown",
   "id": "a64a9d8c",
   "metadata": {},
   "source": [
    "無遺漏值"
   ]
  },
  {
   "cell_type": "code",
   "execution_count": 19,
   "id": "2272707f",
   "metadata": {},
   "outputs": [
    {
     "data": {
      "text/html": [
       "<div>\n",
       "<style scoped>\n",
       "    .dataframe tbody tr th:only-of-type {\n",
       "        vertical-align: middle;\n",
       "    }\n",
       "\n",
       "    .dataframe tbody tr th {\n",
       "        vertical-align: top;\n",
       "    }\n",
       "\n",
       "    .dataframe thead th {\n",
       "        text-align: right;\n",
       "    }\n",
       "</style>\n",
       "<table border=\"1\" class=\"dataframe\">\n",
       "  <thead>\n",
       "    <tr style=\"text-align: right;\">\n",
       "      <th></th>\n",
       "      <th>次數</th>\n",
       "      <th>百分比</th>\n",
       "    </tr>\n",
       "  </thead>\n",
       "  <tbody>\n",
       "    <tr>\n",
       "      <th>1</th>\n",
       "      <td>219</td>\n",
       "      <td>0.079</td>\n",
       "    </tr>\n",
       "    <tr>\n",
       "      <th>2</th>\n",
       "      <td>134</td>\n",
       "      <td>0.048</td>\n",
       "    </tr>\n",
       "    <tr>\n",
       "      <th>3</th>\n",
       "      <td>235</td>\n",
       "      <td>0.085</td>\n",
       "    </tr>\n",
       "    <tr>\n",
       "      <th>4</th>\n",
       "      <td>414</td>\n",
       "      <td>0.149</td>\n",
       "    </tr>\n",
       "    <tr>\n",
       "      <th>5</th>\n",
       "      <td>1778</td>\n",
       "      <td>0.640</td>\n",
       "    </tr>\n",
       "  </tbody>\n",
       "</table>\n",
       "</div>"
      ],
      "text/plain": [
       "     次數    百分比\n",
       "1   219  0.079\n",
       "2   134  0.048\n",
       "3   235  0.085\n",
       "4   414  0.149\n",
       "5  1778  0.640"
      ]
     },
     "execution_count": 19,
     "metadata": {},
     "output_type": "execute_result"
    }
   ],
   "source": [
    "#觀察評分比例\n",
    "size=df['rating'].value_counts().sort_index()\n",
    "pct =df['rating'].value_counts(normalize=True).round(3).sort_index()\n",
    "pd.DataFrame(zip(size,pct),columns=['次數','百分比'],index=range(1,6))"
   ]
  },
  {
   "cell_type": "markdown",
   "id": "3fb915f7",
   "metadata": {},
   "source": [
    "可以看出滿意的占多數(4~5分)，大部分使用者給予正面的評價。"
   ]
  },
  {
   "cell_type": "code",
   "execution_count": 20,
   "id": "1f81a8d7",
   "metadata": {},
   "outputs": [
    {
     "data": {
      "text/plain": [
       "1    2192\n",
       "0     588\n",
       "Name: rating, dtype: int64"
      ]
     },
     "execution_count": 20,
     "metadata": {},
     "output_type": "execute_result"
    }
   ],
   "source": [
    "#資料切割為滿意和不滿意\n",
    "df['rating'] = (df['rating'] > 3).map({True:1,False:0})\n",
    "df['rating'].value_counts()"
   ]
  },
  {
   "cell_type": "code",
   "execution_count": 21,
   "id": "fcf9449a",
   "metadata": {},
   "outputs": [
    {
     "data": {
      "text/plain": [
       "2652                             i am still learning it\\n\n",
       "2448                                Like the backlight.\\n\n",
       "350     i don't like that when you hold it your finger...\n",
       "631     I love this kindle! It’s so lightweight & easy...\n",
       "2355           Excellent device! Longer battery Charge.\\n\n",
       "Name: content, dtype: object"
      ]
     },
     "execution_count": 21,
     "metadata": {},
     "output_type": "execute_result"
    }
   ],
   "source": [
    "#定義與切割\n",
    "x = df['content']\n",
    "y = df['rating']\n",
    "from sklearn.model_selection import train_test_split\n",
    "x_train,x_test,y_train,y_test = train_test_split(x,y,test_size=0.3)\n",
    "x_train.head()"
   ]
  },
  {
   "cell_type": "code",
   "execution_count": 22,
   "id": "d9c3cfff",
   "metadata": {},
   "outputs": [],
   "source": [
    "from sklearn.naive_bayes import MultinomialNB\n",
    "from sklearn.feature_extraction.text import CountVectorizer\n",
    "from sklearn.linear_model import LogisticRegression\n",
    "from sklearn.neighbors import KNeighborsClassifier\n",
    "from sklearn.tree import DecisionTreeClassifier\n",
    "from sklearn.svm import SVC\n",
    "from sklearn.ensemble import BaggingClassifier\n",
    "from sklearn.ensemble import RandomForestClassifier\n",
    "from sklearn.ensemble import AdaBoostClassifier\n",
    "from sklearn.ensemble import GradientBoostingClassifier\n",
    "from xgboost import XGBClassifier\n",
    "from sklearn.preprocessing import StandardScaler\n",
    "from sklearn.pipeline import make_pipeline,Pipeline\n",
    "from sklearn.metrics import confusion_matrix,accuracy_score,classification_report\n",
    "from sklearn.model_selection import GridSearchCV"
   ]
  },
  {
   "cell_type": "code",
   "execution_count": 23,
   "id": "b0c2a69d",
   "metadata": {},
   "outputs": [
    {
     "name": "stdout",
     "output_type": "stream",
     "text": [
      "最佳預測模型和參數 MultinomialNB()\n",
      "訓練集的最佳結果 0.857\n",
      "測試集訓練結果 0.85\n",
      "混亂矩陣\n",
      "     預測1  預測2\n",
      "實際1   83  101\n",
      "實際2   24  626\n",
      "綜合報告\n",
      "              precision    recall  f1-score   support\n",
      "\n",
      "           0       0.78      0.45      0.57       184\n",
      "           1       0.86      0.96      0.91       650\n",
      "\n",
      "    accuracy                           0.85       834\n",
      "   macro avg       0.82      0.71      0.74       834\n",
      "weighted avg       0.84      0.85      0.83       834\n",
      "\n"
     ]
    }
   ],
   "source": [
    "#使用模型和組合器來進行預測\n",
    "model_pl=Pipeline([('preprocess',CountVectorizer(stop_words='english')),('model',LogisticRegression())])\n",
    "param_grid = {'model':[LogisticRegression(),SVC(),KNeighborsClassifier(),DecisionTreeClassifier(max_depth=10),MultinomialNB(),XGBClassifier(),BaggingClassifier(),AdaBoostClassifier(),RandomForestClassifier()]}\n",
    "gs=GridSearchCV(model_pl,param_grid=param_grid,cv=5,return_train_score=True)\n",
    "gs.fit(x_train,y_train)\n",
    "score = gs.best_estimator_.score(x_test,y_test)\n",
    "print('最佳預測模型和參數',gs.best_params_['model'])\n",
    "print('訓練集的最佳結果',gs.best_score_.round(3))\n",
    "print('測試集訓練結果',score.round(3))\n",
    "y_pred = gs.best_estimator_.predict(x_test)\n",
    "print('混亂矩陣')\n",
    "print(pd.DataFrame(confusion_matrix(y_test,y_pred),index=['實際1','實際2'],columns=['預測1','預測2']))\n",
    "print('綜合報告')\n",
    "print(classification_report(y_test,y_pred))"
   ]
  },
  {
   "cell_type": "markdown",
   "id": "3d35d7b2",
   "metadata": {},
   "source": [
    "最佳預測模型為MultinomialNB，準確率為0.85，不過如果要了解不滿意的評論，其樣本不滿意的召回率僅0.46，所以要找出不滿意評論，要進行資料不均衡的處理。"
   ]
  },
  {
   "cell_type": "code",
   "execution_count": 28,
   "id": "c8a8d277",
   "metadata": {},
   "outputs": [
    {
     "name": "stdout",
     "output_type": "stream",
     "text": [
      "測試集訓練結果 0.776\n",
      "混亂矩陣\n",
      "     預測1  預測2\n",
      "實際1  148   36\n",
      "實際2  151  499\n",
      "綜合報告\n",
      "              precision    recall  f1-score   support\n",
      "\n",
      "           0       0.49      0.80      0.61       184\n",
      "           1       0.93      0.77      0.84       650\n",
      "\n",
      "    accuracy                           0.78       834\n",
      "   macro avg       0.71      0.79      0.73       834\n",
      "weighted avg       0.84      0.78      0.79       834\n",
      "\n"
     ]
    }
   ],
   "source": [
    "#向下取樣\n",
    "from imblearn.under_sampling import RandomUnderSampler\n",
    "from imblearn.pipeline import make_pipeline\n",
    "model_pl=make_pipeline(CountVectorizer(stop_words='english'),RandomUnderSampler(),MultinomialNB())\n",
    "model_pl.fit(x_train,y_train)\n",
    "y_pred = model_pl.predict(x_test)\n",
    "score = model_pl.score(x_test,y_test)\n",
    "print('測試集訓練結果',score.round(3))\n",
    "y_pred = model_pl.predict(x_test)\n",
    "print('混亂矩陣')\n",
    "print(pd.DataFrame(confusion_matrix(y_test,y_pred),index=['實際1','實際2'],columns=['預測1','預測2']))\n",
    "print('綜合報告')\n",
    "print(classification_report(y_test,y_pred))"
   ]
  },
  {
   "cell_type": "markdown",
   "id": "89f9fa5f",
   "metadata": {},
   "source": [
    "正確率下降至0.776，但召回率上升至0.8。"
   ]
  },
  {
   "cell_type": "code",
   "execution_count": 29,
   "id": "1bb5289c",
   "metadata": {},
   "outputs": [
    {
     "name": "stdout",
     "output_type": "stream",
     "text": [
      "測試集訓練結果 0.817\n",
      "混亂矩陣\n",
      "     預測1  預測2\n",
      "實際1  126   58\n",
      "實際2   95  555\n",
      "綜合報告\n",
      "              precision    recall  f1-score   support\n",
      "\n",
      "           0       0.57      0.68      0.62       184\n",
      "           1       0.91      0.85      0.88       650\n",
      "\n",
      "    accuracy                           0.82       834\n",
      "   macro avg       0.74      0.77      0.75       834\n",
      "weighted avg       0.83      0.82      0.82       834\n",
      "\n"
     ]
    }
   ],
   "source": [
    "#向上取樣\n",
    "from imblearn.over_sampling import SMOTE\n",
    "model_pl=make_pipeline(CountVectorizer(stop_words='english'),SMOTE(),MultinomialNB())\n",
    "model_pl.fit(x_train,y_train)\n",
    "y_pred = model_pl.predict(x_test)\n",
    "score = model_pl.score(x_test,y_test)\n",
    "print('測試集訓練結果',score.round(3))\n",
    "y_pred = model_pl.predict(x_test)\n",
    "print('混亂矩陣')\n",
    "print(pd.DataFrame(confusion_matrix(y_test,y_pred),index=['實際1','實際2'],columns=['預測1','預測2']))\n",
    "print('綜合報告')\n",
    "print(classification_report(y_test,y_pred))"
   ]
  },
  {
   "cell_type": "markdown",
   "id": "39b2e3bf",
   "metadata": {},
   "source": [
    "正確率上升至0.817，但召回率下降至0.68。"
   ]
  },
  {
   "cell_type": "code",
   "execution_count": 32,
   "id": "e17c02c8",
   "metadata": {},
   "outputs": [
    {
     "data": {
      "text/plain": [
       "array([[0, 0, 0, ..., 0, 0, 0],\n",
       "       [0, 0, 0, ..., 0, 0, 0],\n",
       "       [0, 0, 0, ..., 0, 0, 0],\n",
       "       ...,\n",
       "       [0, 0, 0, ..., 0, 0, 0],\n",
       "       [0, 0, 0, ..., 0, 0, 0],\n",
       "       [0, 0, 0, ..., 0, 0, 0]], dtype=int64)"
      ]
     },
     "execution_count": 32,
     "metadata": {},
     "output_type": "execute_result"
    }
   ],
   "source": [
    "#將標題也納入考量\n",
    "#水平整合器\n",
    "from sklearn.compose import ColumnTransformer\n",
    "x = df[['title','content']]\n",
    "data_pl = ColumnTransformer([('title',CountVectorizer(stop_words='english'),'title'),('content',CountVectorizer(stop_words='english'),'content')])\n",
    "data_pl.fit_transform(x).toarray()"
   ]
  },
  {
   "cell_type": "code",
   "execution_count": 33,
   "id": "4476af77",
   "metadata": {},
   "outputs": [
    {
     "name": "stdout",
     "output_type": "stream",
     "text": [
      "測試集訓練結果 0.887\n",
      "混亂矩陣\n",
      "     預測1  預測2\n",
      "實際1  102   67\n",
      "實際2   27  638\n",
      "綜合報告\n",
      "              precision    recall  f1-score   support\n",
      "\n",
      "           0       0.79      0.60      0.68       169\n",
      "           1       0.90      0.96      0.93       665\n",
      "\n",
      "    accuracy                           0.89       834\n",
      "   macro avg       0.85      0.78      0.81       834\n",
      "weighted avg       0.88      0.89      0.88       834\n",
      "\n"
     ]
    }
   ],
   "source": [
    "x_train,x_test,y_train,y_test = train_test_split(x,y,test_size=0.3)\n",
    "model_pl=make_pipeline(data_pl,MultinomialNB())\n",
    "model_pl.fit(x_train,y_train)\n",
    "y_pred = model_pl.predict(x_test)\n",
    "score = model_pl.score(x_test,y_test)\n",
    "print('測試集訓練結果',score.round(3))\n",
    "y_pred = model_pl.predict(x_test)\n",
    "print('混亂矩陣')\n",
    "print(pd.DataFrame(confusion_matrix(y_test,y_pred),index=['實際1','實際2'],columns=['預測1','預測2']))\n",
    "print('綜合報告')\n",
    "print(classification_report(y_test,y_pred))"
   ]
  },
  {
   "cell_type": "markdown",
   "id": "9cd95c46",
   "metadata": {},
   "source": [
    "再把標題也納入考量後，準確率為0.887，不過其樣本不滿意的召回率僅0.6，所以要找出不滿意評論，還是要進行資料不均衡的處理。"
   ]
  },
  {
   "cell_type": "code",
   "execution_count": 34,
   "id": "1d3e5705",
   "metadata": {},
   "outputs": [
    {
     "name": "stdout",
     "output_type": "stream",
     "text": [
      "測試集訓練結果 0.832\n",
      "混亂矩陣\n",
      "     預測1  預測2\n",
      "實際1  148   21\n",
      "實際2  119  546\n",
      "綜合報告\n",
      "              precision    recall  f1-score   support\n",
      "\n",
      "           0       0.55      0.88      0.68       169\n",
      "           1       0.96      0.82      0.89       665\n",
      "\n",
      "    accuracy                           0.83       834\n",
      "   macro avg       0.76      0.85      0.78       834\n",
      "weighted avg       0.88      0.83      0.84       834\n",
      "\n"
     ]
    }
   ],
   "source": [
    "#向下取樣\n",
    "model_pl=make_pipeline(data_pl,RandomUnderSampler(),MultinomialNB())\n",
    "model_pl.fit(x_train,y_train)\n",
    "y_pred = model_pl.predict(x_test)\n",
    "score = model_pl.score(x_test,y_test)\n",
    "print('測試集訓練結果',score.round(3))\n",
    "y_pred = model_pl.predict(x_test)\n",
    "print('混亂矩陣')\n",
    "print(pd.DataFrame(confusion_matrix(y_test,y_pred),index=['實際1','實際2'],columns=['預測1','預測2']))\n",
    "print('綜合報告')\n",
    "print(classification_report(y_test,y_pred))"
   ]
  },
  {
   "cell_type": "markdown",
   "id": "4bd64645",
   "metadata": {},
   "source": [
    "正確率下降至0.832，但召回率上升至0.88。"
   ]
  },
  {
   "cell_type": "code",
   "execution_count": 35,
   "id": "f379efb2",
   "metadata": {
    "scrolled": true
   },
   "outputs": [
    {
     "name": "stdout",
     "output_type": "stream",
     "text": [
      "測試集訓練結果 0.878\n",
      "混亂矩陣\n",
      "     預測1  預測2\n",
      "實際1  125   44\n",
      "實際2   58  607\n",
      "綜合報告\n",
      "              precision    recall  f1-score   support\n",
      "\n",
      "           0       0.68      0.74      0.71       169\n",
      "           1       0.93      0.91      0.92       665\n",
      "\n",
      "    accuracy                           0.88       834\n",
      "   macro avg       0.81      0.83      0.82       834\n",
      "weighted avg       0.88      0.88      0.88       834\n",
      "\n"
     ]
    }
   ],
   "source": [
    "#向上取樣\n",
    "model_pl=make_pipeline(data_pl,SMOTE(),MultinomialNB())\n",
    "model_pl.fit(x_train,y_train)\n",
    "y_pred = model_pl.predict(x_test)\n",
    "score = model_pl.score(x_test,y_test)\n",
    "print('測試集訓練結果',score.round(3))\n",
    "y_pred = model_pl.predict(x_test)\n",
    "print('混亂矩陣')\n",
    "print(pd.DataFrame(confusion_matrix(y_test,y_pred),index=['實際1','實際2'],columns=['預測1','預測2']))\n",
    "print('綜合報告')\n",
    "print(classification_report(y_test,y_pred))"
   ]
  },
  {
   "cell_type": "markdown",
   "id": "a3bfcaf4",
   "metadata": {},
   "source": [
    "正確率上升至0.878，但召回率下降至0.74。"
   ]
  },
  {
   "cell_type": "markdown",
   "id": "cb979ed1",
   "metadata": {},
   "source": [
    "結論:在商品評論的預測上，可以採用MultinomialNB模型，並將標題一起考慮進去，其正確率可以到0.887，如果要解決目標類別不均衡，可以使用向下均衡法，在對不滿意目標上，有較好的召回率。"
   ]
  }
 ],
 "metadata": {
  "kernelspec": {
   "display_name": "Python 3 (ipykernel)",
   "language": "python",
   "name": "python3"
  },
  "language_info": {
   "codemirror_mode": {
    "name": "ipython",
    "version": 3
   },
   "file_extension": ".py",
   "mimetype": "text/x-python",
   "name": "python",
   "nbconvert_exporter": "python",
   "pygments_lexer": "ipython3",
   "version": "3.9.13"
  }
 },
 "nbformat": 4,
 "nbformat_minor": 5
}
