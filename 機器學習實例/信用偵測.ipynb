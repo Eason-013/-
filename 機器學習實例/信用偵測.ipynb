{
 "cells": [
  {
   "cell_type": "code",
   "execution_count": 3,
   "id": "63e45a0a",
   "metadata": {},
   "outputs": [],
   "source": [
    "#基本套件和模組\n",
    "import pandas as pd\n",
    "import numpy as np\n",
    "import matplotlib.pyplot as plt\n",
    "import seaborn as sns\n",
    "%matplotlib inline\n",
    "%config InlineBackend.figure_format = 'retina'\n",
    "plt.rcParams['font.sans-serif'] = ['DFKai-sb']\n",
    "plt.rcParams['axes.unicode_minus'] = False\n",
    "import warnings\n",
    "warnings.filterwarnings('ignore')"
   ]
  },
  {
   "cell_type": "code",
   "execution_count": 4,
   "id": "99c20ee2",
   "metadata": {},
   "outputs": [
    {
     "data": {
      "text/html": [
       "<div>\n",
       "<style scoped>\n",
       "    .dataframe tbody tr th:only-of-type {\n",
       "        vertical-align: middle;\n",
       "    }\n",
       "\n",
       "    .dataframe tbody tr th {\n",
       "        vertical-align: top;\n",
       "    }\n",
       "\n",
       "    .dataframe thead th {\n",
       "        text-align: right;\n",
       "    }\n",
       "</style>\n",
       "<table border=\"1\" class=\"dataframe\">\n",
       "  <thead>\n",
       "    <tr style=\"text-align: right;\">\n",
       "      <th></th>\n",
       "      <th>Time</th>\n",
       "      <th>V1</th>\n",
       "      <th>V2</th>\n",
       "      <th>V3</th>\n",
       "      <th>V4</th>\n",
       "      <th>V5</th>\n",
       "      <th>V6</th>\n",
       "      <th>V7</th>\n",
       "      <th>V8</th>\n",
       "      <th>V9</th>\n",
       "      <th>...</th>\n",
       "      <th>V21</th>\n",
       "      <th>V22</th>\n",
       "      <th>V23</th>\n",
       "      <th>V24</th>\n",
       "      <th>V25</th>\n",
       "      <th>V26</th>\n",
       "      <th>V27</th>\n",
       "      <th>V28</th>\n",
       "      <th>Amount</th>\n",
       "      <th>Class</th>\n",
       "    </tr>\n",
       "  </thead>\n",
       "  <tbody>\n",
       "    <tr>\n",
       "      <th>0</th>\n",
       "      <td>0.0</td>\n",
       "      <td>-1.359807</td>\n",
       "      <td>-0.072781</td>\n",
       "      <td>2.536347</td>\n",
       "      <td>1.378155</td>\n",
       "      <td>-0.338321</td>\n",
       "      <td>0.462388</td>\n",
       "      <td>0.239599</td>\n",
       "      <td>0.098698</td>\n",
       "      <td>0.363787</td>\n",
       "      <td>...</td>\n",
       "      <td>-0.018307</td>\n",
       "      <td>0.277838</td>\n",
       "      <td>-0.110474</td>\n",
       "      <td>0.066928</td>\n",
       "      <td>0.128539</td>\n",
       "      <td>-0.189115</td>\n",
       "      <td>0.133558</td>\n",
       "      <td>-0.021053</td>\n",
       "      <td>149.62</td>\n",
       "      <td>0</td>\n",
       "    </tr>\n",
       "    <tr>\n",
       "      <th>1</th>\n",
       "      <td>0.0</td>\n",
       "      <td>1.191857</td>\n",
       "      <td>0.266151</td>\n",
       "      <td>0.166480</td>\n",
       "      <td>0.448154</td>\n",
       "      <td>0.060018</td>\n",
       "      <td>-0.082361</td>\n",
       "      <td>-0.078803</td>\n",
       "      <td>0.085102</td>\n",
       "      <td>-0.255425</td>\n",
       "      <td>...</td>\n",
       "      <td>-0.225775</td>\n",
       "      <td>-0.638672</td>\n",
       "      <td>0.101288</td>\n",
       "      <td>-0.339846</td>\n",
       "      <td>0.167170</td>\n",
       "      <td>0.125895</td>\n",
       "      <td>-0.008983</td>\n",
       "      <td>0.014724</td>\n",
       "      <td>2.69</td>\n",
       "      <td>0</td>\n",
       "    </tr>\n",
       "    <tr>\n",
       "      <th>2</th>\n",
       "      <td>1.0</td>\n",
       "      <td>-1.358354</td>\n",
       "      <td>-1.340163</td>\n",
       "      <td>1.773209</td>\n",
       "      <td>0.379780</td>\n",
       "      <td>-0.503198</td>\n",
       "      <td>1.800499</td>\n",
       "      <td>0.791461</td>\n",
       "      <td>0.247676</td>\n",
       "      <td>-1.514654</td>\n",
       "      <td>...</td>\n",
       "      <td>0.247998</td>\n",
       "      <td>0.771679</td>\n",
       "      <td>0.909412</td>\n",
       "      <td>-0.689281</td>\n",
       "      <td>-0.327642</td>\n",
       "      <td>-0.139097</td>\n",
       "      <td>-0.055353</td>\n",
       "      <td>-0.059752</td>\n",
       "      <td>378.66</td>\n",
       "      <td>0</td>\n",
       "    </tr>\n",
       "    <tr>\n",
       "      <th>3</th>\n",
       "      <td>1.0</td>\n",
       "      <td>-0.966272</td>\n",
       "      <td>-0.185226</td>\n",
       "      <td>1.792993</td>\n",
       "      <td>-0.863291</td>\n",
       "      <td>-0.010309</td>\n",
       "      <td>1.247203</td>\n",
       "      <td>0.237609</td>\n",
       "      <td>0.377436</td>\n",
       "      <td>-1.387024</td>\n",
       "      <td>...</td>\n",
       "      <td>-0.108300</td>\n",
       "      <td>0.005274</td>\n",
       "      <td>-0.190321</td>\n",
       "      <td>-1.175575</td>\n",
       "      <td>0.647376</td>\n",
       "      <td>-0.221929</td>\n",
       "      <td>0.062723</td>\n",
       "      <td>0.061458</td>\n",
       "      <td>123.50</td>\n",
       "      <td>0</td>\n",
       "    </tr>\n",
       "    <tr>\n",
       "      <th>4</th>\n",
       "      <td>2.0</td>\n",
       "      <td>-1.158233</td>\n",
       "      <td>0.877737</td>\n",
       "      <td>1.548718</td>\n",
       "      <td>0.403034</td>\n",
       "      <td>-0.407193</td>\n",
       "      <td>0.095921</td>\n",
       "      <td>0.592941</td>\n",
       "      <td>-0.270533</td>\n",
       "      <td>0.817739</td>\n",
       "      <td>...</td>\n",
       "      <td>-0.009431</td>\n",
       "      <td>0.798278</td>\n",
       "      <td>-0.137458</td>\n",
       "      <td>0.141267</td>\n",
       "      <td>-0.206010</td>\n",
       "      <td>0.502292</td>\n",
       "      <td>0.219422</td>\n",
       "      <td>0.215153</td>\n",
       "      <td>69.99</td>\n",
       "      <td>0</td>\n",
       "    </tr>\n",
       "  </tbody>\n",
       "</table>\n",
       "<p>5 rows × 31 columns</p>\n",
       "</div>"
      ],
      "text/plain": [
       "   Time        V1        V2        V3        V4        V5        V6        V7  \\\n",
       "0   0.0 -1.359807 -0.072781  2.536347  1.378155 -0.338321  0.462388  0.239599   \n",
       "1   0.0  1.191857  0.266151  0.166480  0.448154  0.060018 -0.082361 -0.078803   \n",
       "2   1.0 -1.358354 -1.340163  1.773209  0.379780 -0.503198  1.800499  0.791461   \n",
       "3   1.0 -0.966272 -0.185226  1.792993 -0.863291 -0.010309  1.247203  0.237609   \n",
       "4   2.0 -1.158233  0.877737  1.548718  0.403034 -0.407193  0.095921  0.592941   \n",
       "\n",
       "         V8        V9  ...       V21       V22       V23       V24       V25  \\\n",
       "0  0.098698  0.363787  ... -0.018307  0.277838 -0.110474  0.066928  0.128539   \n",
       "1  0.085102 -0.255425  ... -0.225775 -0.638672  0.101288 -0.339846  0.167170   \n",
       "2  0.247676 -1.514654  ...  0.247998  0.771679  0.909412 -0.689281 -0.327642   \n",
       "3  0.377436 -1.387024  ... -0.108300  0.005274 -0.190321 -1.175575  0.647376   \n",
       "4 -0.270533  0.817739  ... -0.009431  0.798278 -0.137458  0.141267 -0.206010   \n",
       "\n",
       "        V26       V27       V28  Amount  Class  \n",
       "0 -0.189115  0.133558 -0.021053  149.62      0  \n",
       "1  0.125895 -0.008983  0.014724    2.69      0  \n",
       "2 -0.139097 -0.055353 -0.059752  378.66      0  \n",
       "3 -0.221929  0.062723  0.061458  123.50      0  \n",
       "4  0.502292  0.219422  0.215153   69.99      0  \n",
       "\n",
       "[5 rows x 31 columns]"
      ]
     },
     "execution_count": 4,
     "metadata": {},
     "output_type": "execute_result"
    }
   ],
   "source": [
    "#載入資料\n",
    "df = pd.read_csv('creditcard.csv')\n",
    "df.head()"
   ]
  },
  {
   "cell_type": "markdown",
   "id": "22f264c7",
   "metadata": {},
   "source": [
    "資料為kaggle上的歐洲信用卡交易資料，其中v1-v27都經過主成分分析，Amount是金額，Class被盜刷與否。"
   ]
  },
  {
   "cell_type": "code",
   "execution_count": 5,
   "id": "6a70704a",
   "metadata": {
    "scrolled": true
   },
   "outputs": [
    {
     "name": "stdout",
     "output_type": "stream",
     "text": [
      "<class 'pandas.core.frame.DataFrame'>\n",
      "RangeIndex: 284807 entries, 0 to 284806\n",
      "Data columns (total 30 columns):\n",
      " #   Column  Non-Null Count   Dtype  \n",
      "---  ------  --------------   -----  \n",
      " 0   V1      284807 non-null  float64\n",
      " 1   V2      284807 non-null  float64\n",
      " 2   V3      284807 non-null  float64\n",
      " 3   V4      284807 non-null  float64\n",
      " 4   V5      284807 non-null  float64\n",
      " 5   V6      284807 non-null  float64\n",
      " 6   V7      284807 non-null  float64\n",
      " 7   V8      284807 non-null  float64\n",
      " 8   V9      284807 non-null  float64\n",
      " 9   V10     284807 non-null  float64\n",
      " 10  V11     284807 non-null  float64\n",
      " 11  V12     284807 non-null  float64\n",
      " 12  V13     284807 non-null  float64\n",
      " 13  V14     284807 non-null  float64\n",
      " 14  V15     284807 non-null  float64\n",
      " 15  V16     284807 non-null  float64\n",
      " 16  V17     284807 non-null  float64\n",
      " 17  V18     284807 non-null  float64\n",
      " 18  V19     284807 non-null  float64\n",
      " 19  V20     284807 non-null  float64\n",
      " 20  V21     284807 non-null  float64\n",
      " 21  V22     284807 non-null  float64\n",
      " 22  V23     284807 non-null  float64\n",
      " 23  V24     284807 non-null  float64\n",
      " 24  V25     284807 non-null  float64\n",
      " 25  V26     284807 non-null  float64\n",
      " 26  V27     284807 non-null  float64\n",
      " 27  V28     284807 non-null  float64\n",
      " 28  Amount  284807 non-null  float64\n",
      " 29  Class   284807 non-null  int64  \n",
      "dtypes: float64(29), int64(1)\n",
      "memory usage: 65.2 MB\n"
     ]
    }
   ],
   "source": [
    "df.drop('Time',axis=1,inplace=True)\n",
    "df.info()"
   ]
  },
  {
   "cell_type": "markdown",
   "id": "347f035a",
   "metadata": {},
   "source": [
    "只有class為類別變數，其他均為連續值"
   ]
  },
  {
   "cell_type": "code",
   "execution_count": 6,
   "id": "8831ef0e",
   "metadata": {},
   "outputs": [
    {
     "data": {
      "text/plain": [
       "0"
      ]
     },
     "execution_count": 6,
     "metadata": {},
     "output_type": "execute_result"
    }
   ],
   "source": [
    "df.isnull().sum().sum()"
   ]
  },
  {
   "cell_type": "markdown",
   "id": "0ed15d17",
   "metadata": {},
   "source": [
    "無遺漏值"
   ]
  },
  {
   "cell_type": "code",
   "execution_count": 7,
   "id": "8efde423",
   "metadata": {},
   "outputs": [
    {
     "data": {
      "text/html": [
       "<div>\n",
       "<style scoped>\n",
       "    .dataframe tbody tr th:only-of-type {\n",
       "        vertical-align: middle;\n",
       "    }\n",
       "\n",
       "    .dataframe tbody tr th {\n",
       "        vertical-align: top;\n",
       "    }\n",
       "\n",
       "    .dataframe thead th {\n",
       "        text-align: right;\n",
       "    }\n",
       "</style>\n",
       "<table border=\"1\" class=\"dataframe\">\n",
       "  <thead>\n",
       "    <tr style=\"text-align: right;\">\n",
       "      <th></th>\n",
       "      <th>次數</th>\n",
       "      <th>百分比</th>\n",
       "    </tr>\n",
       "  </thead>\n",
       "  <tbody>\n",
       "    <tr>\n",
       "      <th>No</th>\n",
       "      <td>284315</td>\n",
       "      <td>0.998</td>\n",
       "    </tr>\n",
       "    <tr>\n",
       "      <th>Yes</th>\n",
       "      <td>492</td>\n",
       "      <td>0.002</td>\n",
       "    </tr>\n",
       "  </tbody>\n",
       "</table>\n",
       "</div>"
      ],
      "text/plain": [
       "         次數    百分比\n",
       "No   284315  0.998\n",
       "Yes     492  0.002"
      ]
     },
     "execution_count": 7,
     "metadata": {},
     "output_type": "execute_result"
    }
   ],
   "source": [
    "#觀察目標變數-是否被盜刷(Class)\n",
    "size=df['Class'].value_counts()\n",
    "pct =df['Class'].value_counts(normalize=True).round(3)\n",
    "pd.DataFrame(zip(size,pct),columns=['次數','百分比'],index=['No','Yes'])"
   ]
  },
  {
   "cell_type": "markdown",
   "id": "57cdaeb2",
   "metadata": {},
   "source": [
    "總資料有約28萬筆，但只有492筆有問題，而在這裏的目標是找出這492筆涉嫌詐欺的。"
   ]
  },
  {
   "cell_type": "code",
   "execution_count": 8,
   "id": "b9dde820",
   "metadata": {},
   "outputs": [
    {
     "data": {
      "text/plain": [
       "<AxesSubplot:>"
      ]
     },
     "execution_count": 8,
     "metadata": {},
     "output_type": "execute_result"
    },
    {
     "data": {
      "image/png": "[encoded data removed]",
      "text/plain": [
       "<Figure size 504x360 with 2 Axes>"
      ]
     },
     "metadata": {
      "image/png": {
       "height": 326,
       "width": 424
      },
      "needs_background": "light"
     },
     "output_type": "display_data"
    }
   ],
   "source": [
    "#查看相關係數\n",
    "plt.figure(figsize=(7,5))\n",
    "sns.heatmap(df.corr(),cmap='coolwarm')"
   ]
  },
  {
   "cell_type": "markdown",
   "id": "ed57ed92",
   "metadata": {},
   "source": [
    "只有v7和Amount以及v20和Amount相關係數較高"
   ]
  },
  {
   "cell_type": "code",
   "execution_count": 9,
   "id": "e805dd5c",
   "metadata": {},
   "outputs": [
    {
     "data": {
      "text/plain": [
       "V1       -0.10\n",
       "V2        0.09\n",
       "V3       -0.19\n",
       "V4        0.13\n",
       "V5       -0.09\n",
       "V6       -0.04\n",
       "V7       -0.19\n",
       "V8        0.02\n",
       "V9       -0.10\n",
       "V10      -0.22\n",
       "V11       0.15\n",
       "V12      -0.26\n",
       "V13      -0.00\n",
       "V14      -0.30\n",
       "V15      -0.00\n",
       "V16      -0.20\n",
       "V17      -0.33\n",
       "V18      -0.11\n",
       "V19       0.03\n",
       "V20       0.02\n",
       "V21       0.04\n",
       "V22       0.00\n",
       "V23      -0.00\n",
       "V24      -0.01\n",
       "V25       0.00\n",
       "V26       0.00\n",
       "V27       0.02\n",
       "V28       0.01\n",
       "Amount    0.01\n",
       "Class     1.00\n",
       "dtype: float64"
      ]
     },
     "execution_count": 9,
     "metadata": {},
     "output_type": "execute_result"
    }
   ],
   "source": [
    "#檢視所有連續變數和目標變數的關係\n",
    "df.corrwith(df['Class']).round(2)"
   ]
  },
  {
   "cell_type": "markdown",
   "id": "ab83f334",
   "metadata": {},
   "source": [
    "相關係數都不高"
   ]
  },
  {
   "cell_type": "code",
   "execution_count": 10,
   "id": "718045b2",
   "metadata": {
    "scrolled": true
   },
   "outputs": [
    {
     "data": {
      "text/html": [
       "<div>\n",
       "<style scoped>\n",
       "    .dataframe tbody tr th:only-of-type {\n",
       "        vertical-align: middle;\n",
       "    }\n",
       "\n",
       "    .dataframe tbody tr th {\n",
       "        vertical-align: top;\n",
       "    }\n",
       "\n",
       "    .dataframe thead th {\n",
       "        text-align: right;\n",
       "    }\n",
       "</style>\n",
       "<table border=\"1\" class=\"dataframe\">\n",
       "  <thead>\n",
       "    <tr style=\"text-align: right;\">\n",
       "      <th></th>\n",
       "      <th>count</th>\n",
       "      <th>mean</th>\n",
       "      <th>std</th>\n",
       "      <th>min</th>\n",
       "      <th>25%</th>\n",
       "      <th>50%</th>\n",
       "      <th>75%</th>\n",
       "      <th>max</th>\n",
       "    </tr>\n",
       "    <tr>\n",
       "      <th>Class</th>\n",
       "      <th></th>\n",
       "      <th></th>\n",
       "      <th></th>\n",
       "      <th></th>\n",
       "      <th></th>\n",
       "      <th></th>\n",
       "      <th></th>\n",
       "      <th></th>\n",
       "    </tr>\n",
       "  </thead>\n",
       "  <tbody>\n",
       "    <tr>\n",
       "      <th>0</th>\n",
       "      <td>284315.0</td>\n",
       "      <td>88.291022</td>\n",
       "      <td>250.105092</td>\n",
       "      <td>0.0</td>\n",
       "      <td>5.65</td>\n",
       "      <td>22.00</td>\n",
       "      <td>77.05</td>\n",
       "      <td>25691.16</td>\n",
       "    </tr>\n",
       "    <tr>\n",
       "      <th>1</th>\n",
       "      <td>492.0</td>\n",
       "      <td>122.211321</td>\n",
       "      <td>256.683288</td>\n",
       "      <td>0.0</td>\n",
       "      <td>1.00</td>\n",
       "      <td>9.25</td>\n",
       "      <td>105.89</td>\n",
       "      <td>2125.87</td>\n",
       "    </tr>\n",
       "  </tbody>\n",
       "</table>\n",
       "</div>"
      ],
      "text/plain": [
       "          count        mean         std  min   25%    50%     75%       max\n",
       "Class                                                                      \n",
       "0      284315.0   88.291022  250.105092  0.0  5.65  22.00   77.05  25691.16\n",
       "1         492.0  122.211321  256.683288  0.0  1.00   9.25  105.89   2125.87"
      ]
     },
     "execution_count": 10,
     "metadata": {},
     "output_type": "execute_result"
    }
   ],
   "source": [
    "#比較目標變數與金額的關係\n",
    "df.groupby('Class')['Amount'].describe()"
   ]
  },
  {
   "cell_type": "markdown",
   "id": "892f31f2",
   "metadata": {},
   "source": [
    "詐欺金額沒有超過2125.87，且有75%落在0~105.89之間"
   ]
  },
  {
   "cell_type": "code",
   "execution_count": 11,
   "id": "3aafc28f",
   "metadata": {},
   "outputs": [
    {
     "data": {
      "text/plain": [
       "<AxesSubplot:xlabel='Class', ylabel='Amount'>"
      ]
     },
     "execution_count": 11,
     "metadata": {},
     "output_type": "execute_result"
    },
    {
     "data": {
      "image/png": "[encoded data removed]",
      "text/plain": [
       "<Figure size 432x288 with 1 Axes>"
      ]
     },
     "metadata": {
      "image/png": {
       "height": 260,
       "width": 394
      },
      "needs_background": "light"
     },
     "output_type": "display_data"
    }
   ],
   "source": [
    "#作圖\n",
    "sns.violinplot(x='Class',y='Amount',data=df)"
   ]
  },
  {
   "cell_type": "markdown",
   "id": "59a59f41",
   "metadata": {},
   "source": [
    "詐欺類的普遍金額較低，可能是害怕引起信用卡公司注意，故盜刷以小額為主。"
   ]
  },
  {
   "cell_type": "code",
   "execution_count": 12,
   "id": "36b2b4bb",
   "metadata": {},
   "outputs": [],
   "source": [
    "#定義與切割\n",
    "x = df.drop('Class',axis=1)\n",
    "y = df['Class']\n",
    "from sklearn.model_selection import train_test_split\n",
    "x_train,x_test,y_train,y_test = train_test_split(x,y,test_size=0.3)"
   ]
  },
  {
   "cell_type": "code",
   "execution_count": 13,
   "id": "8f9d50d1",
   "metadata": {},
   "outputs": [
    {
     "name": "stdout",
     "output_type": "stream",
     "text": [
      "整體正確率: 0.9982444436641972\n",
      "混亂矩陣\n",
      "       預測1  預測2\n",
      "實際1  85293    0\n",
      "實際2    150    0\n",
      "綜合報告\n",
      "              precision    recall  f1-score   support\n",
      "\n",
      "           0       1.00      1.00      1.00     85293\n",
      "           1       0.00      0.00      0.00       150\n",
      "\n",
      "    accuracy                           1.00     85443\n",
      "   macro avg       0.50      0.50      0.50     85443\n",
      "weighted avg       1.00      1.00      1.00     85443\n",
      "\n"
     ]
    }
   ],
   "source": [
    "#檢視基礎預測結果\n",
    "from sklearn.dummy import DummyClassifier\n",
    "from sklearn.metrics import confusion_matrix,accuracy_score,classification_report#正確率、混亂矩陣、綜合報告\n",
    "dmy = DummyClassifier(strategy='most_frequent')\n",
    "dmy.fit(x_train,y_train)\n",
    "dmy.score(x_train,y_train)\n",
    "y_pred = dmy.predict(x_test)\n",
    "print('整體正確率:',accuracy_score(y_test,y_pred))\n",
    "print('混亂矩陣')\n",
    "print(pd.DataFrame(confusion_matrix(y_test,y_pred),index=['實際1','實際2'],columns=['預測1','預測2']))\n",
    "print('綜合報告')\n",
    "print(classification_report(y_test,y_pred))"
   ]
  },
  {
   "cell_type": "code",
   "execution_count": 14,
   "id": "e4c2b645",
   "metadata": {},
   "outputs": [],
   "source": [
    "from sklearn.linear_model import LogisticRegression\n",
    "from sklearn.neighbors import KNeighborsClassifier\n",
    "from sklearn.tree import DecisionTreeClassifier\n",
    "from sklearn.svm import SVC\n",
    "from sklearn.pipeline import Pipeline\n",
    "from sklearn.ensemble import BaggingClassifier\n",
    "from sklearn.ensemble import RandomForestClassifier\n",
    "from sklearn.ensemble import AdaBoostClassifier\n",
    "from sklearn.ensemble import GradientBoostingClassifier\n",
    "from xgboost import XGBClassifier\n",
    "from sklearn.preprocessing import StandardScaler\n",
    "from sklearn.pipeline import make_pipeline\n",
    "from sklearn.metrics import recall_score"
   ]
  },
  {
   "cell_type": "code",
   "execution_count": 15,
   "id": "974b007a",
   "metadata": {},
   "outputs": [
    {
     "name": "stdout",
     "output_type": "stream",
     "text": [
      "模型名稱----------------LogisticRegression----------------\n",
      "混亂矩陣\n",
      "        預測1  預測2\n",
      "實際1  85281   12\n",
      "實際2     75   75\n",
      "正確率:0.999,召回率:0.500\n",
      "\n",
      "模型名稱---------------KNeighborsClassifier---------------\n",
      "混亂矩陣\n",
      "        預測1  預測2\n",
      "實際1  85289    4\n",
      "實際2     45  105\n",
      "正確率:0.999,召回率:0.700\n",
      "\n",
      "模型名稱--------------DecisionTreeClassifier--------------\n",
      "混亂矩陣\n",
      "        預測1  預測2\n",
      "實際1  85248   45\n",
      "實際2     49  101\n",
      "正確率:0.999,召回率:0.673\n",
      "\n",
      "模型名稱-----------------------SVC------------------------\n",
      "混亂矩陣\n",
      "        預測1  預測2\n",
      "實際1  85289    4\n",
      "實際2     59   91\n",
      "正確率:0.999,召回率:0.607\n",
      "\n",
      "模型名稱----------------BaggingClassifier-----------------\n",
      "混亂矩陣\n",
      "        預測1  預測2\n",
      "實際1  85285    8\n",
      "實際2     41  109\n",
      "正確率:0.999,召回率:0.727\n",
      "\n",
      "模型名稱--------------RandomForestClassifier--------------\n",
      "混亂矩陣\n",
      "        預測1  預測2\n",
      "實際1  85289    4\n",
      "實際2     38  112\n",
      "正確率:1.000,召回率:0.747\n",
      "\n",
      "模型名稱----------------AdaBoostClassifier----------------\n",
      "混亂矩陣\n",
      "        預測1  預測2\n",
      "實際1  85283   10\n",
      "實際2     53   97\n",
      "正確率:0.999,召回率:0.647\n",
      "\n",
      "模型名稱------------GradientBoostingClassifier------------\n",
      "混亂矩陣\n",
      "        預測1  預測2\n",
      "實際1  85276   17\n",
      "實際2     63   87\n",
      "正確率:0.999,召回率:0.580\n",
      "\n",
      "模型名稱------------------XGBClassifier-------------------\n",
      "混亂矩陣\n",
      "        預測1  預測2\n",
      "實際1  85289    4\n",
      "實際2     39  111\n",
      "正確率:0.999,召回率:0.740\n",
      "\n"
     ]
    }
   ],
   "source": [
    "#將每個預測模型和組合器投入使用\n",
    "models = [LogisticRegression(),KNeighborsClassifier(),DecisionTreeClassifier(),SVC(),BaggingClassifier(),RandomForestClassifier(),AdaBoostClassifier(),GradientBoostingClassifier(),XGBClassifier()]\n",
    "model_results={}\n",
    "for model in models:\n",
    "    model_pl=make_pipeline(StandardScaler(),model)\n",
    "    model_pl.fit(x_train,y_train)\n",
    "    y_pred = model_pl.predict(x_test)\n",
    "    score = accuracy_score(y_test,y_pred)\n",
    "    recall = recall_score(y_test,y_pred,pos_label=1)\n",
    "    model_results[model.__class__.__name__] = [score,recall]\n",
    "    print(f'模型名稱{model.__class__.__name__:-^50}')\n",
    "    print(f'混亂矩陣\\n',pd.DataFrame(confusion_matrix(y_test,y_pred),index=['實際1','實際2'],columns=['預測1','預測2']))\n",
    "    print(f'正確率:{score:.3f},召回率:{recall:.3f}\\n')"
   ]
  },
  {
   "cell_type": "code",
   "execution_count": 16,
   "id": "7c230681",
   "metadata": {},
   "outputs": [
    {
     "data": {
      "text/html": [
       "<div>\n",
       "<style scoped>\n",
       "    .dataframe tbody tr th:only-of-type {\n",
       "        vertical-align: middle;\n",
       "    }\n",
       "\n",
       "    .dataframe tbody tr th {\n",
       "        vertical-align: top;\n",
       "    }\n",
       "\n",
       "    .dataframe thead th {\n",
       "        text-align: right;\n",
       "    }\n",
       "</style>\n",
       "<table border=\"1\" class=\"dataframe\">\n",
       "  <thead>\n",
       "    <tr style=\"text-align: right;\">\n",
       "      <th></th>\n",
       "      <th>prec</th>\n",
       "      <th>recall</th>\n",
       "    </tr>\n",
       "  </thead>\n",
       "  <tbody>\n",
       "    <tr>\n",
       "      <th>RandomForestClassifier</th>\n",
       "      <td>0.999508</td>\n",
       "      <td>0.746667</td>\n",
       "    </tr>\n",
       "    <tr>\n",
       "      <th>XGBClassifier</th>\n",
       "      <td>0.999497</td>\n",
       "      <td>0.740000</td>\n",
       "    </tr>\n",
       "    <tr>\n",
       "      <th>BaggingClassifier</th>\n",
       "      <td>0.999427</td>\n",
       "      <td>0.726667</td>\n",
       "    </tr>\n",
       "    <tr>\n",
       "      <th>KNeighborsClassifier</th>\n",
       "      <td>0.999427</td>\n",
       "      <td>0.700000</td>\n",
       "    </tr>\n",
       "    <tr>\n",
       "      <th>DecisionTreeClassifier</th>\n",
       "      <td>0.998900</td>\n",
       "      <td>0.673333</td>\n",
       "    </tr>\n",
       "    <tr>\n",
       "      <th>AdaBoostClassifier</th>\n",
       "      <td>0.999263</td>\n",
       "      <td>0.646667</td>\n",
       "    </tr>\n",
       "    <tr>\n",
       "      <th>SVC</th>\n",
       "      <td>0.999263</td>\n",
       "      <td>0.606667</td>\n",
       "    </tr>\n",
       "    <tr>\n",
       "      <th>GradientBoostingClassifier</th>\n",
       "      <td>0.999064</td>\n",
       "      <td>0.580000</td>\n",
       "    </tr>\n",
       "    <tr>\n",
       "      <th>LogisticRegression</th>\n",
       "      <td>0.998982</td>\n",
       "      <td>0.500000</td>\n",
       "    </tr>\n",
       "  </tbody>\n",
       "</table>\n",
       "</div>"
      ],
      "text/plain": [
       "                                prec    recall\n",
       "RandomForestClassifier      0.999508  0.746667\n",
       "XGBClassifier               0.999497  0.740000\n",
       "BaggingClassifier           0.999427  0.726667\n",
       "KNeighborsClassifier        0.999427  0.700000\n",
       "DecisionTreeClassifier      0.998900  0.673333\n",
       "AdaBoostClassifier          0.999263  0.646667\n",
       "SVC                         0.999263  0.606667\n",
       "GradientBoostingClassifier  0.999064  0.580000\n",
       "LogisticRegression          0.998982  0.500000"
      ]
     },
     "execution_count": 16,
     "metadata": {},
     "output_type": "execute_result"
    }
   ],
   "source": [
    "#整理並排序\n",
    "df_orig = pd.DataFrame(model_results.values(),index=model_results.keys(),columns=['prec','recall'])\n",
    "df_orig.sort_values(by='recall',ascending=False)"
   ]
  },
  {
   "cell_type": "markdown",
   "id": "b9812437",
   "metadata": {},
   "source": [
    "從這張表可以看出RandomForestClassifier在召回率的表現最佳約為0.76"
   ]
  },
  {
   "cell_type": "code",
   "execution_count": 17,
   "id": "0015a8cd",
   "metadata": {},
   "outputs": [
    {
     "name": "stdout",
     "output_type": "stream",
     "text": [
      "模型名稱----------------LogisticRegression----------------\n",
      "混亂矩陣\n",
      "        預測1   預測2\n",
      "實際1  83628  1665\n",
      "實際2     19   131\n",
      "正確率:0.980,召回率:0.873\n",
      "\n",
      "模型名稱--------------DecisionTreeClassifier--------------\n",
      "混亂矩陣\n",
      "        預測1  預測2\n",
      "實際1  85272   21\n",
      "實際2     46  104\n",
      "正確率:0.999,召回率:0.693\n",
      "\n",
      "模型名稱-----------------------SVC------------------------\n",
      "混亂矩陣\n",
      "        預測1  預測2\n",
      "實際1  85076  217\n",
      "實際2     46  104\n",
      "正確率:0.997,召回率:0.693\n",
      "\n",
      "模型名稱--------------RandomForestClassifier--------------\n",
      "混亂矩陣\n",
      "        預測1  預測2\n",
      "實際1  85289    4\n",
      "實際2     46  104\n",
      "正確率:0.999,召回率:0.693\n",
      "\n",
      "[22:42:25] WARNING: C:/buildkite-agent/builds/buildkite-windows-cpu-autoscaling-group-i-030221e36e1a46bfb-1/xgboost/xgboost-ci-windows/src/learner.cc:767: \n",
      "Parameters: { \"class_weight\" } are not used.\n",
      "\n",
      "模型名稱------------------XGBClassifier-------------------\n",
      "混亂矩陣\n",
      "        預測1  預測2\n",
      "實際1  85289    4\n",
      "實際2     39  111\n",
      "正確率:0.999,召回率:0.740\n",
      "\n"
     ]
    }
   ],
   "source": [
    "#嘗試解決目標類別不均衡--權重\n",
    "models = [LogisticRegression(class_weight='balanced'),DecisionTreeClassifier(class_weight='balanced'),SVC(class_weight='balanced'),RandomForestClassifier(class_weight='balanced'),XGBClassifier(class_weight='balanced')]\n",
    "model_results={}\n",
    "for model in models:\n",
    "    model_pl=make_pipeline(StandardScaler(),model)\n",
    "    model_pl.fit(x_train,y_train)\n",
    "    y_pred = model_pl.predict(x_test)\n",
    "    score = accuracy_score(y_test,y_pred)\n",
    "    recall = recall_score(y_test,y_pred,pos_label=1)\n",
    "    model_results[model.__class__.__name__] = [score,recall]\n",
    "    print(f'模型名稱{model.__class__.__name__:-^50}')\n",
    "    print(f'混亂矩陣\\n',pd.DataFrame(confusion_matrix(y_test,y_pred),index=['實際1','實際2'],columns=['預測1','預測2']))\n",
    "    print(f'正確率:{score:.3f},召回率:{recall:.3f}\\n')"
   ]
  },
  {
   "cell_type": "code",
   "execution_count": 18,
   "id": "838ed3ea",
   "metadata": {},
   "outputs": [
    {
     "data": {
      "text/html": [
       "<div>\n",
       "<style scoped>\n",
       "    .dataframe tbody tr th:only-of-type {\n",
       "        vertical-align: middle;\n",
       "    }\n",
       "\n",
       "    .dataframe tbody tr th {\n",
       "        vertical-align: top;\n",
       "    }\n",
       "\n",
       "    .dataframe thead th {\n",
       "        text-align: right;\n",
       "    }\n",
       "</style>\n",
       "<table border=\"1\" class=\"dataframe\">\n",
       "  <thead>\n",
       "    <tr style=\"text-align: right;\">\n",
       "      <th></th>\n",
       "      <th>prec</th>\n",
       "      <th>recall</th>\n",
       "    </tr>\n",
       "  </thead>\n",
       "  <tbody>\n",
       "    <tr>\n",
       "      <th>LogisticRegression</th>\n",
       "      <td>0.980291</td>\n",
       "      <td>0.873333</td>\n",
       "    </tr>\n",
       "    <tr>\n",
       "      <th>XGBClassifier</th>\n",
       "      <td>0.999497</td>\n",
       "      <td>0.740000</td>\n",
       "    </tr>\n",
       "    <tr>\n",
       "      <th>DecisionTreeClassifier</th>\n",
       "      <td>0.999216</td>\n",
       "      <td>0.693333</td>\n",
       "    </tr>\n",
       "    <tr>\n",
       "      <th>SVC</th>\n",
       "      <td>0.996922</td>\n",
       "      <td>0.693333</td>\n",
       "    </tr>\n",
       "    <tr>\n",
       "      <th>RandomForestClassifier</th>\n",
       "      <td>0.999415</td>\n",
       "      <td>0.693333</td>\n",
       "    </tr>\n",
       "  </tbody>\n",
       "</table>\n",
       "</div>"
      ],
      "text/plain": [
       "                            prec    recall\n",
       "LogisticRegression      0.980291  0.873333\n",
       "XGBClassifier           0.999497  0.740000\n",
       "DecisionTreeClassifier  0.999216  0.693333\n",
       "SVC                     0.996922  0.693333\n",
       "RandomForestClassifier  0.999415  0.693333"
      ]
     },
     "execution_count": 18,
     "metadata": {},
     "output_type": "execute_result"
    }
   ],
   "source": [
    "#整理並排序\n",
    "df_weight = pd.DataFrame(model_results.values(),index=model_results.keys(),columns=['prec','recall'])\n",
    "df_weight.sort_values(by='recall',ascending=False)"
   ]
  },
  {
   "cell_type": "markdown",
   "id": "d0938369",
   "metadata": {},
   "source": [
    "整體表現都有所提升，羅吉斯回歸召集率更上升到0.87"
   ]
  },
  {
   "cell_type": "code",
   "execution_count": 19,
   "id": "d8763eb9",
   "metadata": {},
   "outputs": [
    {
     "name": "stdout",
     "output_type": "stream",
     "text": [
      "模型名稱----------------LogisticRegression----------------\n",
      "混亂矩陣\n",
      "        預測1   預測2\n",
      "實際1  82855  2438\n",
      "實際2     16   134\n",
      "正確率:0.971,召回率:0.893\n",
      "\n",
      "模型名稱---------------KNeighborsClassifier---------------\n",
      "混亂矩陣\n",
      "        預測1   預測2\n",
      "實際1  83946  1347\n",
      "實際2     21   129\n",
      "正確率:0.984,召回率:0.860\n",
      "\n",
      "模型名稱--------------DecisionTreeClassifier--------------\n",
      "混亂矩陣\n",
      "        預測1   預測2\n",
      "實際1  76880  8413\n",
      "實際2     22   128\n",
      "正確率:0.901,召回率:0.853\n",
      "\n",
      "模型名稱-----------------------SVC------------------------\n",
      "混亂矩陣\n",
      "        預測1   預測2\n",
      "實際1  84057  1236\n",
      "實際2     25   125\n",
      "正確率:0.985,召回率:0.833\n",
      "\n",
      "模型名稱----------------BaggingClassifier-----------------\n",
      "混亂矩陣\n",
      "        預測1   預測2\n",
      "實際1  81542  3751\n",
      "實際2     23   127\n",
      "正確率:0.956,召回率:0.847\n",
      "\n",
      "模型名稱--------------RandomForestClassifier--------------\n",
      "混亂矩陣\n",
      "        預測1   預測2\n",
      "實際1  83362  1931\n",
      "實際2     22   128\n",
      "正確率:0.977,召回率:0.853\n",
      "\n",
      "模型名稱----------------AdaBoostClassifier----------------\n",
      "混亂矩陣\n",
      "        預測1   預測2\n",
      "實際1  81491  3802\n",
      "實際2     17   133\n",
      "正確率:0.955,召回率:0.887\n",
      "\n",
      "模型名稱------------GradientBoostingClassifier------------\n",
      "混亂矩陣\n",
      "        預測1   預測2\n",
      "實際1  82482  2811\n",
      "實際2     19   131\n",
      "正確率:0.967,召回率:0.873\n",
      "\n",
      "模型名稱------------------XGBClassifier-------------------\n",
      "混亂矩陣\n",
      "        預測1   預測2\n",
      "實際1  82668  2625\n",
      "實際2     18   132\n",
      "正確率:0.969,召回率:0.880\n",
      "\n"
     ]
    }
   ],
   "source": [
    "#嘗試解決目標類別不均衡--向下取樣\n",
    "from imblearn.under_sampling import RandomUnderSampler\n",
    "from imblearn.pipeline import make_pipeline\n",
    "models = [LogisticRegression(),KNeighborsClassifier(),DecisionTreeClassifier(),SVC(),BaggingClassifier(),RandomForestClassifier(),AdaBoostClassifier(),GradientBoostingClassifier(),XGBClassifier()]\n",
    "model_results={}\n",
    "for model in models:\n",
    "    model_pl=make_pipeline(StandardScaler(),RandomUnderSampler(),model)\n",
    "    model_pl.fit(x_train,y_train)\n",
    "    y_pred = model_pl.predict(x_test)\n",
    "    score = accuracy_score(y_test,y_pred)\n",
    "    recall = recall_score(y_test,y_pred,pos_label=1)\n",
    "    model_results[model.__class__.__name__] = [score,recall]\n",
    "    print(f'模型名稱{model.__class__.__name__:-^50}')\n",
    "    print(f'混亂矩陣\\n',pd.DataFrame(confusion_matrix(y_test,y_pred),index=['實際1','實際2'],columns=['預測1','預測2']))\n",
    "    print(f'正確率:{score:.3f},召回率:{recall:.3f}\\n')"
   ]
  },
  {
   "cell_type": "code",
   "execution_count": 20,
   "id": "33111d2a",
   "metadata": {
    "scrolled": true
   },
   "outputs": [
    {
     "data": {
      "text/html": [
       "<div>\n",
       "<style scoped>\n",
       "    .dataframe tbody tr th:only-of-type {\n",
       "        vertical-align: middle;\n",
       "    }\n",
       "\n",
       "    .dataframe tbody tr th {\n",
       "        vertical-align: top;\n",
       "    }\n",
       "\n",
       "    .dataframe thead th {\n",
       "        text-align: right;\n",
       "    }\n",
       "</style>\n",
       "<table border=\"1\" class=\"dataframe\">\n",
       "  <thead>\n",
       "    <tr style=\"text-align: right;\">\n",
       "      <th></th>\n",
       "      <th>prec</th>\n",
       "      <th>recall</th>\n",
       "    </tr>\n",
       "  </thead>\n",
       "  <tbody>\n",
       "    <tr>\n",
       "      <th>LogisticRegression</th>\n",
       "      <td>0.971279</td>\n",
       "      <td>0.893333</td>\n",
       "    </tr>\n",
       "    <tr>\n",
       "      <th>AdaBoostClassifier</th>\n",
       "      <td>0.955304</td>\n",
       "      <td>0.886667</td>\n",
       "    </tr>\n",
       "    <tr>\n",
       "      <th>XGBClassifier</th>\n",
       "      <td>0.969067</td>\n",
       "      <td>0.880000</td>\n",
       "    </tr>\n",
       "    <tr>\n",
       "      <th>GradientBoostingClassifier</th>\n",
       "      <td>0.966879</td>\n",
       "      <td>0.873333</td>\n",
       "    </tr>\n",
       "    <tr>\n",
       "      <th>KNeighborsClassifier</th>\n",
       "      <td>0.983989</td>\n",
       "      <td>0.860000</td>\n",
       "    </tr>\n",
       "    <tr>\n",
       "      <th>DecisionTreeClassifier</th>\n",
       "      <td>0.901279</td>\n",
       "      <td>0.853333</td>\n",
       "    </tr>\n",
       "    <tr>\n",
       "      <th>RandomForestClassifier</th>\n",
       "      <td>0.977143</td>\n",
       "      <td>0.853333</td>\n",
       "    </tr>\n",
       "    <tr>\n",
       "      <th>BaggingClassifier</th>\n",
       "      <td>0.955830</td>\n",
       "      <td>0.846667</td>\n",
       "    </tr>\n",
       "    <tr>\n",
       "      <th>SVC</th>\n",
       "      <td>0.985242</td>\n",
       "      <td>0.833333</td>\n",
       "    </tr>\n",
       "  </tbody>\n",
       "</table>\n",
       "</div>"
      ],
      "text/plain": [
       "                                prec    recall\n",
       "LogisticRegression          0.971279  0.893333\n",
       "AdaBoostClassifier          0.955304  0.886667\n",
       "XGBClassifier               0.969067  0.880000\n",
       "GradientBoostingClassifier  0.966879  0.873333\n",
       "KNeighborsClassifier        0.983989  0.860000\n",
       "DecisionTreeClassifier      0.901279  0.853333\n",
       "RandomForestClassifier      0.977143  0.853333\n",
       "BaggingClassifier           0.955830  0.846667\n",
       "SVC                         0.985242  0.833333"
      ]
     },
     "execution_count": 20,
     "metadata": {},
     "output_type": "execute_result"
    }
   ],
   "source": [
    "df_down = pd.DataFrame(model_results.values(),index=model_results.keys(),columns=['prec','recall'])\n",
    "df_down.sort_values(by='recall',ascending=False)"
   ]
  },
  {
   "cell_type": "markdown",
   "id": "e6491bcb",
   "metadata": {},
   "source": [
    "最高的是羅吉斯回歸，其召回率上升至0.893，其召回率比權重法略高。"
   ]
  },
  {
   "cell_type": "code",
   "execution_count": 21,
   "id": "71ec1eb8",
   "metadata": {},
   "outputs": [
    {
     "name": "stdout",
     "output_type": "stream",
     "text": [
      "模型名稱----------------LogisticRegression----------------\n",
      "混亂矩陣\n",
      "        預測1   預測2\n",
      "實際1  83498  1795\n",
      "實際2     20   130\n",
      "正確率:0.979,召回率:0.867\n",
      "\n",
      "模型名稱---------------KNeighborsClassifier---------------\n",
      "混亂矩陣\n",
      "        預測1  預測2\n",
      "實際1  85169  124\n",
      "實際2     28  122\n",
      "正確率:0.998,召回率:0.813\n",
      "\n",
      "模型名稱--------------DecisionTreeClassifier--------------\n",
      "混亂矩陣\n",
      "        預測1  預測2\n",
      "實際1  85130  163\n",
      "實際2     43  107\n",
      "正確率:0.998,召回率:0.713\n",
      "\n",
      "模型名稱-----------------------SVC------------------------\n",
      "混亂矩陣\n",
      "        預測1   預測2\n",
      "實際1  84175  1118\n",
      "實際2     26   124\n",
      "正確率:0.987,召回率:0.827\n",
      "\n",
      "模型名稱----------------BaggingClassifier-----------------\n",
      "混亂矩陣\n",
      "        預測1  預測2\n",
      "實際1  85236   57\n",
      "實際2     40  110\n",
      "正確率:0.999,召回率:0.733\n",
      "\n",
      "模型名稱--------------RandomForestClassifier--------------\n",
      "混亂矩陣\n",
      "        預測1  預測2\n",
      "實際1  85283   10\n",
      "實際2     39  111\n",
      "正確率:0.999,召回率:0.740\n",
      "\n",
      "模型名稱----------------AdaBoostClassifier----------------\n",
      "混亂矩陣\n",
      "        預測1   預測2\n",
      "實際1  83463  1830\n",
      "實際2     23   127\n",
      "正確率:0.978,召回率:0.847\n",
      "\n",
      "模型名稱------------GradientBoostingClassifier------------\n",
      "混亂矩陣\n",
      "        預測1  預測2\n",
      "實際1  84370  923\n",
      "實際2     23  127\n",
      "正確率:0.989,召回率:0.847\n",
      "\n",
      "模型名稱------------------XGBClassifier-------------------\n",
      "混亂矩陣\n",
      "        預測1  預測2\n",
      "實際1  85260   33\n",
      "實際2     35  115\n",
      "正確率:0.999,召回率:0.767\n",
      "\n"
     ]
    }
   ],
   "source": [
    "#嘗試解決目標類別不均衡--向上取樣\n",
    "from imblearn.over_sampling import SMOTE\n",
    "models = [LogisticRegression(),KNeighborsClassifier(),DecisionTreeClassifier(),SVC(),BaggingClassifier(),RandomForestClassifier(),AdaBoostClassifier(),GradientBoostingClassifier(),XGBClassifier()]\n",
    "model_results={}\n",
    "for model in models:\n",
    "    model_pl=make_pipeline(StandardScaler(),SMOTE(),model)\n",
    "    model_pl.fit(x_train,y_train)\n",
    "    y_pred = model_pl.predict(x_test)\n",
    "    score = accuracy_score(y_test,y_pred)\n",
    "    recall = recall_score(y_test,y_pred,pos_label=1)\n",
    "    model_results[model.__class__.__name__] = [score,recall]\n",
    "    print(f'模型名稱{model.__class__.__name__:-^50}')\n",
    "    print(f'混亂矩陣\\n',pd.DataFrame(confusion_matrix(y_test,y_pred),index=['實際1','實際2'],columns=['預測1','預測2']))\n",
    "    print(f'正確率:{score:.3f},召回率:{recall:.3f}\\n')"
   ]
  },
  {
   "cell_type": "code",
   "execution_count": 22,
   "id": "321e19bb",
   "metadata": {},
   "outputs": [
    {
     "data": {
      "text/html": [
       "<div>\n",
       "<style scoped>\n",
       "    .dataframe tbody tr th:only-of-type {\n",
       "        vertical-align: middle;\n",
       "    }\n",
       "\n",
       "    .dataframe tbody tr th {\n",
       "        vertical-align: top;\n",
       "    }\n",
       "\n",
       "    .dataframe thead th {\n",
       "        text-align: right;\n",
       "    }\n",
       "</style>\n",
       "<table border=\"1\" class=\"dataframe\">\n",
       "  <thead>\n",
       "    <tr style=\"text-align: right;\">\n",
       "      <th></th>\n",
       "      <th>prec</th>\n",
       "      <th>recall</th>\n",
       "    </tr>\n",
       "  </thead>\n",
       "  <tbody>\n",
       "    <tr>\n",
       "      <th>LogisticRegression</th>\n",
       "      <td>0.978758</td>\n",
       "      <td>0.866667</td>\n",
       "    </tr>\n",
       "    <tr>\n",
       "      <th>AdaBoostClassifier</th>\n",
       "      <td>0.978313</td>\n",
       "      <td>0.846667</td>\n",
       "    </tr>\n",
       "    <tr>\n",
       "      <th>GradientBoostingClassifier</th>\n",
       "      <td>0.988928</td>\n",
       "      <td>0.846667</td>\n",
       "    </tr>\n",
       "    <tr>\n",
       "      <th>SVC</th>\n",
       "      <td>0.986611</td>\n",
       "      <td>0.826667</td>\n",
       "    </tr>\n",
       "    <tr>\n",
       "      <th>KNeighborsClassifier</th>\n",
       "      <td>0.998221</td>\n",
       "      <td>0.813333</td>\n",
       "    </tr>\n",
       "    <tr>\n",
       "      <th>XGBClassifier</th>\n",
       "      <td>0.999204</td>\n",
       "      <td>0.766667</td>\n",
       "    </tr>\n",
       "    <tr>\n",
       "      <th>RandomForestClassifier</th>\n",
       "      <td>0.999427</td>\n",
       "      <td>0.740000</td>\n",
       "    </tr>\n",
       "    <tr>\n",
       "      <th>BaggingClassifier</th>\n",
       "      <td>0.998865</td>\n",
       "      <td>0.733333</td>\n",
       "    </tr>\n",
       "    <tr>\n",
       "      <th>DecisionTreeClassifier</th>\n",
       "      <td>0.997589</td>\n",
       "      <td>0.713333</td>\n",
       "    </tr>\n",
       "  </tbody>\n",
       "</table>\n",
       "</div>"
      ],
      "text/plain": [
       "                                prec    recall\n",
       "LogisticRegression          0.978758  0.866667\n",
       "AdaBoostClassifier          0.978313  0.846667\n",
       "GradientBoostingClassifier  0.988928  0.846667\n",
       "SVC                         0.986611  0.826667\n",
       "KNeighborsClassifier        0.998221  0.813333\n",
       "XGBClassifier               0.999204  0.766667\n",
       "RandomForestClassifier      0.999427  0.740000\n",
       "BaggingClassifier           0.998865  0.733333\n",
       "DecisionTreeClassifier      0.997589  0.713333"
      ]
     },
     "execution_count": 22,
     "metadata": {},
     "output_type": "execute_result"
    }
   ],
   "source": [
    "df_up = pd.DataFrame(model_results.values(),index=model_results.keys(),columns=['prec','recall'])\n",
    "df_up.sort_values(by='recall',ascending=False)"
   ]
  },
  {
   "cell_type": "markdown",
   "id": "e91afe0e",
   "metadata": {},
   "source": [
    "最高的是LogisticRegression，其召回率為0.867，其召回率比權重法略高，但低於向下取樣。"
   ]
  },
  {
   "cell_type": "code",
   "execution_count": 23,
   "id": "fb72df5b",
   "metadata": {},
   "outputs": [
    {
     "data": {
      "text/html": [
       "<style type=\"text/css\">\n",
       "#T_67ebf_row0_col2, #T_67ebf_row1_col2, #T_67ebf_row2_col2, #T_67ebf_row3_col2, #T_67ebf_row4_col2, #T_67ebf_row5_col2, #T_67ebf_row6_col2, #T_67ebf_row7_col2, #T_67ebf_row8_col2 {\n",
       "  background-color: yellow;\n",
       "}\n",
       "</style>\n",
       "<table id=\"T_67ebf_\">\n",
       "  <thead>\n",
       "    <tr>\n",
       "      <th class=\"blank level0\" >&nbsp;</th>\n",
       "      <th class=\"col_heading level0 col0\" >沒處理</th>\n",
       "      <th class=\"col_heading level0 col1\" >權重法</th>\n",
       "      <th class=\"col_heading level0 col2\" >向下取樣</th>\n",
       "      <th class=\"col_heading level0 col3\" >向上取樣</th>\n",
       "    </tr>\n",
       "  </thead>\n",
       "  <tbody>\n",
       "    <tr>\n",
       "      <th id=\"T_67ebf_level0_row0\" class=\"row_heading level0 row0\" >LogisticRegression</th>\n",
       "      <td id=\"T_67ebf_row0_col0\" class=\"data row0 col0\" >0.500000</td>\n",
       "      <td id=\"T_67ebf_row0_col1\" class=\"data row0 col1\" >0.873333</td>\n",
       "      <td id=\"T_67ebf_row0_col2\" class=\"data row0 col2\" >0.893333</td>\n",
       "      <td id=\"T_67ebf_row0_col3\" class=\"data row0 col3\" >0.866667</td>\n",
       "    </tr>\n",
       "    <tr>\n",
       "      <th id=\"T_67ebf_level0_row1\" class=\"row_heading level0 row1\" >KNeighborsClassifier</th>\n",
       "      <td id=\"T_67ebf_row1_col0\" class=\"data row1 col0\" >0.700000</td>\n",
       "      <td id=\"T_67ebf_row1_col1\" class=\"data row1 col1\" >nan</td>\n",
       "      <td id=\"T_67ebf_row1_col2\" class=\"data row1 col2\" >0.860000</td>\n",
       "      <td id=\"T_67ebf_row1_col3\" class=\"data row1 col3\" >0.813333</td>\n",
       "    </tr>\n",
       "    <tr>\n",
       "      <th id=\"T_67ebf_level0_row2\" class=\"row_heading level0 row2\" >DecisionTreeClassifier</th>\n",
       "      <td id=\"T_67ebf_row2_col0\" class=\"data row2 col0\" >0.673333</td>\n",
       "      <td id=\"T_67ebf_row2_col1\" class=\"data row2 col1\" >0.693333</td>\n",
       "      <td id=\"T_67ebf_row2_col2\" class=\"data row2 col2\" >0.853333</td>\n",
       "      <td id=\"T_67ebf_row2_col3\" class=\"data row2 col3\" >0.713333</td>\n",
       "    </tr>\n",
       "    <tr>\n",
       "      <th id=\"T_67ebf_level0_row3\" class=\"row_heading level0 row3\" >SVC</th>\n",
       "      <td id=\"T_67ebf_row3_col0\" class=\"data row3 col0\" >0.606667</td>\n",
       "      <td id=\"T_67ebf_row3_col1\" class=\"data row3 col1\" >0.693333</td>\n",
       "      <td id=\"T_67ebf_row3_col2\" class=\"data row3 col2\" >0.833333</td>\n",
       "      <td id=\"T_67ebf_row3_col3\" class=\"data row3 col3\" >0.826667</td>\n",
       "    </tr>\n",
       "    <tr>\n",
       "      <th id=\"T_67ebf_level0_row4\" class=\"row_heading level0 row4\" >BaggingClassifier</th>\n",
       "      <td id=\"T_67ebf_row4_col0\" class=\"data row4 col0\" >0.726667</td>\n",
       "      <td id=\"T_67ebf_row4_col1\" class=\"data row4 col1\" >nan</td>\n",
       "      <td id=\"T_67ebf_row4_col2\" class=\"data row4 col2\" >0.846667</td>\n",
       "      <td id=\"T_67ebf_row4_col3\" class=\"data row4 col3\" >0.733333</td>\n",
       "    </tr>\n",
       "    <tr>\n",
       "      <th id=\"T_67ebf_level0_row5\" class=\"row_heading level0 row5\" >RandomForestClassifier</th>\n",
       "      <td id=\"T_67ebf_row5_col0\" class=\"data row5 col0\" >0.746667</td>\n",
       "      <td id=\"T_67ebf_row5_col1\" class=\"data row5 col1\" >0.693333</td>\n",
       "      <td id=\"T_67ebf_row5_col2\" class=\"data row5 col2\" >0.853333</td>\n",
       "      <td id=\"T_67ebf_row5_col3\" class=\"data row5 col3\" >0.740000</td>\n",
       "    </tr>\n",
       "    <tr>\n",
       "      <th id=\"T_67ebf_level0_row6\" class=\"row_heading level0 row6\" >AdaBoostClassifier</th>\n",
       "      <td id=\"T_67ebf_row6_col0\" class=\"data row6 col0\" >0.646667</td>\n",
       "      <td id=\"T_67ebf_row6_col1\" class=\"data row6 col1\" >nan</td>\n",
       "      <td id=\"T_67ebf_row6_col2\" class=\"data row6 col2\" >0.886667</td>\n",
       "      <td id=\"T_67ebf_row6_col3\" class=\"data row6 col3\" >0.846667</td>\n",
       "    </tr>\n",
       "    <tr>\n",
       "      <th id=\"T_67ebf_level0_row7\" class=\"row_heading level0 row7\" >GradientBoostingClassifier</th>\n",
       "      <td id=\"T_67ebf_row7_col0\" class=\"data row7 col0\" >0.580000</td>\n",
       "      <td id=\"T_67ebf_row7_col1\" class=\"data row7 col1\" >nan</td>\n",
       "      <td id=\"T_67ebf_row7_col2\" class=\"data row7 col2\" >0.873333</td>\n",
       "      <td id=\"T_67ebf_row7_col3\" class=\"data row7 col3\" >0.846667</td>\n",
       "    </tr>\n",
       "    <tr>\n",
       "      <th id=\"T_67ebf_level0_row8\" class=\"row_heading level0 row8\" >XGBClassifier</th>\n",
       "      <td id=\"T_67ebf_row8_col0\" class=\"data row8 col0\" >0.740000</td>\n",
       "      <td id=\"T_67ebf_row8_col1\" class=\"data row8 col1\" >0.740000</td>\n",
       "      <td id=\"T_67ebf_row8_col2\" class=\"data row8 col2\" >0.880000</td>\n",
       "      <td id=\"T_67ebf_row8_col3\" class=\"data row8 col3\" >0.766667</td>\n",
       "    </tr>\n",
       "  </tbody>\n",
       "</table>\n"
      ],
      "text/plain": [
       "<pandas.io.formats.style.Styler at 0x181925f84f0>"
      ]
     },
     "execution_count": 23,
     "metadata": {},
     "output_type": "execute_result"
    }
   ],
   "source": [
    "#比較所有方法的召回率\n",
    "df_recall = pd.concat([df_orig,df_weight,df_down,df_up],axis=1,keys=['沒處理','權重法','向下取樣','向上取樣'])\n",
    "df_recall.xs('recall',level=1,axis=1).style.highlight_max(axis=1)"
   ]
  },
  {
   "cell_type": "markdown",
   "id": "ee544d2e",
   "metadata": {},
   "source": [
    "從上述表格可以得知，向下取樣的方法優於兩者。"
   ]
  },
  {
   "cell_type": "code",
   "execution_count": 26,
   "id": "dd947d5b",
   "metadata": {},
   "outputs": [
    {
     "name": "stdout",
     "output_type": "stream",
     "text": [
      "AUC分數:0.9578281531505126\n"
     ]
    },
    {
     "data": {
      "image/png": "[encoded data removed]",
      "text/plain": [
       "<Figure size 432x288 with 1 Axes>"
      ]
     },
     "metadata": {
      "image/png": {
       "height": 247,
       "width": 371
      },
      "needs_background": "light"
     },
     "output_type": "display_data"
    }
   ],
   "source": [
    "#繪製ROC圖()\n",
    "from sklearn.metrics import roc_curve,roc_auc_score\n",
    "model_pl=make_pipeline(StandardScaler(),RandomUnderSampler(),LogisticRegression()) \n",
    "model_pl.fit(x_train,y_train)\n",
    "y_pred_porba = model_pl.predict_proba(x_test)[:,1]\n",
    "fpr,tpr,thresholds = roc_curve(y_test,y_pred_porba)\n",
    "plt.plot(fpr,tpr,marker='.')\n",
    "plt.plot([0,1],[0,1],ls='--')\n",
    "print(f'AUC分數:{roc_auc_score(y_test,y_pred_porba)}')"
   ]
  },
  {
   "cell_type": "markdown",
   "id": "398b8a01",
   "metadata": {},
   "source": [
    "AUC分數:0.958代表分類表現相當傑出"
   ]
  },
  {
   "cell_type": "code",
   "execution_count": 25,
   "id": "339c09fe",
   "metadata": {},
   "outputs": [
    {
     "data": {
      "text/plain": [
       "[<matplotlib.lines.Line2D at 0x18193722040>]"
      ]
     },
     "execution_count": 25,
     "metadata": {},
     "output_type": "execute_result"
    },
    {
     "data": {
      "image/png": "[encoded data removed]",
      "text/plain": [
       "<Figure size 432x288 with 1 Axes>"
      ]
     },
     "metadata": {
      "image/png": {
       "height": 247,
       "width": 371
      },
      "needs_background": "light"
     },
     "output_type": "display_data"
    }
   ],
   "source": [
    "#繪製PRC圖\n",
    "from sklearn.metrics import precision_recall_curve\n",
    "model_pl=make_pipeline(StandardScaler(),RandomUnderSampler(),LogisticRegression()) \n",
    "model_pl.fit(x_train,y_train)\n",
    "y_pred_porba = model_pl.predict_proba(x_test)[:,1]\n",
    "prec,recall,thres = precision_recall_curve(y_test,y_pred_porba)\n",
    "plt.plot(recall,prec)"
   ]
  },
  {
   "cell_type": "markdown",
   "id": "4b45f0a0",
   "metadata": {},
   "source": [
    "結論:信用偵測的目的在抓出盜刷者，所以需要進行調整來提高召回率以預測盜刷的發生。而在這裡可以採用向下採樣的方法，並使用羅吉斯迴歸進行預測，召回率可達0.893。"
   ]
  }
 ],
 "metadata": {
  "kernelspec": {
   "display_name": "Python 3 (ipykernel)",
   "language": "python",
   "name": "python3"
  },
  "language_info": {
   "codemirror_mode": {
    "name": "ipython",
    "version": 3
   },
   "file_extension": ".py",
   "mimetype": "text/x-python",
   "name": "python",
   "nbconvert_exporter": "python",
   "pygments_lexer": "ipython3",
   "version": "3.9.7"
  }
 },
 "nbformat": 4,
 "nbformat_minor": 5
}
